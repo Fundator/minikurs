{
 "cells": [
  {
   "cell_type": "markdown",
   "metadata": {},
   "source": [
    "# Ensamble models and comparisons"
   ]
  },
  {
   "cell_type": "code",
   "execution_count": null,
   "metadata": {},
   "outputs": [],
   "source": [
    "from sklearn.datasets import load_iris\n",
    "from sklearn.model_selection import cross_val_score\n",
    "from sklearn.tree import DecisionTreeClassifier\n",
    "from sklearn.ensemble import RandomForestClassifier\n",
    "from sklearn.neighbors import KNeighborsClassifier\n",
    "from sklearn.ensemble import VotingClassifier\n",
    "import plotly.graph_objects as go"
   ]
  },
  {
   "cell_type": "code",
   "execution_count": null,
   "metadata": {},
   "outputs": [],
   "source": [
    "iris_df = load_iris(as_frame=True).frame\n",
    "iris_df"
   ]
  },
  {
   "cell_type": "code",
   "execution_count": null,
   "metadata": {},
   "outputs": [],
   "source": [
    "X, y = iris_df.drop(\"target\", axis=1), iris_df[\"target\"]"
   ]
  },
  {
   "cell_type": "code",
   "execution_count": null,
   "metadata": {},
   "outputs": [],
   "source": [
    "fig = go.Figure(\n",
    "    [\n",
    "        go.Scatter3d(\n",
    "            x=iris_df['sepal length (cm)'], y=iris_df['sepal width (cm)'], z=iris_df['petal length (cm)'],\n",
    "            mode='markers', marker=dict(size=iris_df['petal width (cm)'] * 5, color=iris_df['target'], colorscale='Viridis', showscale=True)\n",
    "        )\n",
    "    ])\n",
    "fig.update_layout(template='plotly_dark')\n",
    "fig.show()"
   ]
  },
  {
   "cell_type": "code",
   "execution_count": null,
   "metadata": {},
   "outputs": [],
   "source": [
    "dumb_tree_classifier = DecisionTreeClassifier(max_depth=1)\n",
    "tree_classifier = DecisionTreeClassifier()\n",
    "forest_classifier = RandomForestClassifier(n_estimators=50, max_depth=1)\n",
    "knn_classifier = KNeighborsClassifier()\n",
    "voting_classifier = VotingClassifier(\n",
    "    estimators=[(f\"tree_{i}\", DecisionTreeClassifier(max_depth=1)) for i in range(50)]\n",
    ")"
   ]
  },
  {
   "cell_type": "code",
   "execution_count": null,
   "metadata": {},
   "outputs": [],
   "source": [
    "for clf, label in zip([dumb_tree_classifier, tree_classifier, forest_classifier, knn_classifier, voting_classifier], ['Dumb tree classifier', 'Decision Tree', 'Random Forest', 'KNN', 'Dumb tree ensamble']):\n",
    "    scores = cross_val_score(clf, X, y, scoring='accuracy', cv=5)\n",
    "    print(\"Accuracy: %0.3f (+/- %0.2f) [%s]\" % (scores.mean(), scores.std(), label))"
   ]
  },
  {
   "cell_type": "markdown",
   "metadata": {},
   "source": [
    "# DBScan for clustering and comparisons"
   ]
  },
  {
   "cell_type": "code",
   "execution_count": null,
   "metadata": {},
   "outputs": [],
   "source": [
    "from sklearn.datasets import make_circles, make_blobs\n",
    "from sklearn.preprocessing import StandardScaler\n",
    "from sklearn.cluster import DBSCAN, KMeans\n",
    "import plotly.graph_objects as go\n",
    "from plotly.subplots import make_subplots"
   ]
  },
  {
   "cell_type": "code",
   "execution_count": null,
   "metadata": {},
   "outputs": [],
   "source": [
    "circles = make_circles(n_samples=1500, factor=0.5, noise=0.05)\n",
    "blobs = make_blobs(n_samples=1500, cluster_std=[1.0, 2.5, 0.5])"
   ]
  },
  {
   "cell_type": "code",
   "execution_count": null,
   "metadata": {},
   "outputs": [],
   "source": [
    "X, y = circles\n",
    "X_scaled = StandardScaler().fit_transform(X)\n",
    "dbscan_circle_results = DBSCAN(eps=0.3).fit_predict(X_scaled)\n",
    "kmeans_circle_results = KMeans(n_clusters=2).fit_predict(X_scaled)"
   ]
  },
  {
   "cell_type": "code",
   "execution_count": null,
   "metadata": {},
   "outputs": [],
   "source": [
    "X2, y2 = blobs\n",
    "X_scaled = StandardScaler().fit_transform(X2)\n",
    "dbscan_blob_results = DBSCAN(eps=0.3).fit_predict(X_scaled)\n",
    "kmeans_blob_results = KMeans(n_clusters=3).fit_predict(X_scaled)"
   ]
  },
  {
   "cell_type": "code",
   "execution_count": null,
   "metadata": {},
   "outputs": [],
   "source": [
    "fig = make_subplots(rows=2, cols=2, subplot_titles=('DBSCAN', 'KMeans'))\n",
    "fig.add_trace(\n",
    "    go.Scatter(x=X[:, 0], y=X[:, 1], mode=\"markers\", name=\"DBSCAN circles\", marker=dict(color=dbscan_circle_results)),\n",
    "    row=1, col=1\n",
    ")\n",
    "fig.add_trace(\n",
    "    go.Scatter(x=X[:, 0], y=X[:, 1], mode=\"markers\", name=\"KMeans circles\", marker=dict(color=kmeans_circle_results)),\n",
    "    row=1, col=2\n",
    ")\n",
    "fig.add_trace(\n",
    "    go.Scatter(x=X2[:, 0], y=X2[:, 1], mode=\"markers\", name=\"DBSCAN blobs\", marker=dict(color=dbscan_blob_results)),\n",
    "    row=2, col=1\n",
    ")\n",
    "fig.add_trace(\n",
    "    go.Scatter(x=X2[:, 0], y=X2[:, 1], mode=\"markers\", name=\"KMeans blobs\", marker=dict(color=kmeans_blob_results)),\n",
    "    row=2, col=2\n",
    ")\n",
    "fig.update_layout(height=800, width=800, template='plotly_dark')\n",
    "fig.show()"
   ]
  },
  {
   "cell_type": "markdown",
   "metadata": {},
   "source": [
    "## Task:\n",
    "Try to formulate your own machine learning task from an existing project.\n",
    "1. What data is available?\n",
    "2. What could be predicted from this data? And how much value could such a prediction bring?\n",
    "3. What demands are there for privacy, security and interpretability?\n",
    "4. Is the task an instance of supervised or unsupervised learning? Is the task classification, regression or clustering?\n",
    "5. What type of machine learning model could solve this? e.g. try to search online or use a [sklearns flowchart](https://scikit-learn.org/stable/tutorial/machine_learning_map/index.html)"
   ]
  },
  {
   "cell_type": "code",
   "execution_count": null,
   "metadata": {},
   "outputs": [],
   "source": []
  }
 ],
 "metadata": {
  "interpreter": {
   "hash": "35731d38797c00bb3b513d59db061224a45fad8253fc47d933695b55c4ccb787"
  },
  "kernelspec": {
   "display_name": "Python 3.9.7 64-bit ('minikurs': conda)",
   "language": "python",
   "name": "python3"
  },
  "language_info": {
   "codemirror_mode": {
    "name": "ipython",
    "version": 3
   },
   "file_extension": ".py",
   "mimetype": "text/x-python",
   "name": "python",
   "nbconvert_exporter": "python",
   "pygments_lexer": "ipython3",
   "version": "3.9.7"
  },
  "orig_nbformat": 4
 },
 "nbformat": 4,
 "nbformat_minor": 2
}
