{
 "cells": [
  {
   "cell_type": "markdown",
   "metadata": {},
   "source": [
    "# Supervised learning"
   ]
  },
  {
   "cell_type": "code",
   "execution_count": null,
   "metadata": {},
   "outputs": [],
   "source": [
    "from sklearn.tree import DecisionTreeRegressor\n",
    "from pandas import DataFrame"
   ]
  },
  {
   "cell_type": "code",
   "execution_count": null,
   "metadata": {},
   "outputs": [],
   "source": [
    "training_data = DataFrame(\n",
    "    {\n",
    "        \"sex_male\": [True, False, True, False],\n",
    "        \"year_of_birth\": [1990, 1995, 1982, 1989],\n",
    "        \"avg_grade\": [4.8, 5.4, 6.0, 4.1],\n",
    "        \"points\": [180, 180, 360, 60],\n",
    "        \"got_job\": [False, True, True, False]\n",
    "    })\n",
    "columns = [\"sex_male\", \"year_of_birth\", \"got_job\", \"points\"]"
   ]
  },
  {
   "cell_type": "code",
   "execution_count": null,
   "metadata": {},
   "outputs": [],
   "source": [
    "tree_model = DecisionTreeRegressor(random_state=42)\n",
    "tree_model.fit(training_data[columns], training_data[\"avg_grade\"])"
   ]
  },
  {
   "cell_type": "code",
   "execution_count": null,
   "metadata": {},
   "outputs": [],
   "source": [
    "from matplotlib import pyplot as plt\n",
    "from sklearn import tree"
   ]
  },
  {
   "cell_type": "code",
   "execution_count": null,
   "metadata": {},
   "outputs": [],
   "source": [
    "fig = plt.figure(figsize=(25,20))\n",
    "_ = tree.plot_tree(tree_model, feature_names=columns, filled=True)"
   ]
  },
  {
   "cell_type": "markdown",
   "metadata": {},
   "source": [
    "# Unsupervised learning"
   ]
  },
  {
   "cell_type": "code",
   "execution_count": null,
   "metadata": {},
   "outputs": [],
   "source": [
    "from sklearn.datasets import make_blobs\n",
    "from sklearn.cluster import KMeans\n",
    "\n",
    "import plotly.graph_objects as go"
   ]
  },
  {
   "cell_type": "code",
   "execution_count": null,
   "metadata": {},
   "outputs": [],
   "source": [
    "X, y = make_blobs(n_samples=500, centers=5, n_features=2, random_state=42)"
   ]
  },
  {
   "cell_type": "code",
   "execution_count": null,
   "metadata": {},
   "outputs": [],
   "source": [
    "# Plot the blobs\n",
    "fig = go.Figure(\n",
    "    data=[go.Scatter(x=X[:, 0], y=X[:, 1], mode=\"markers\")]\n",
    ")\n",
    "fig.show()"
   ]
  },
  {
   "cell_type": "code",
   "execution_count": null,
   "metadata": {},
   "outputs": [],
   "source": [
    "# Build and fit a model\n",
    "model = KMeans(n_clusters=5, random_state=42)\n",
    "model.fit(X)"
   ]
  },
  {
   "cell_type": "code",
   "execution_count": null,
   "metadata": {},
   "outputs": [],
   "source": [
    "# Plot the model predictions\n",
    "y_pred = model.predict(X)\n",
    "fig = go.Figure(\n",
    "    data=[go.Scatter(x=X[:, 0], y=X[:, 1], mode=\"markers\", marker=dict(color=y_pred))]\n",
    ")\n",
    "fig.show()"
   ]
  },
  {
   "cell_type": "markdown",
   "metadata": {},
   "source": [
    "## Task:\n",
    "Try training a supervised model K-Nearest neighbour on the dataset with blobs.\n",
    "You can still use the variables X and y from earlier cells."
   ]
  },
  {
   "cell_type": "code",
   "execution_count": null,
   "metadata": {},
   "outputs": [],
   "source": [
    "from sklearn.neighbors import KNeighborsClassifier"
   ]
  }
 ],
 "metadata": {
  "interpreter": {
   "hash": "35731d38797c00bb3b513d59db061224a45fad8253fc47d933695b55c4ccb787"
  },
  "kernelspec": {
   "display_name": "Python 3.9.7 64-bit ('minikurs': conda)",
   "language": "python",
   "name": "python3"
  },
  "language_info": {
   "codemirror_mode": {
    "name": "ipython",
    "version": 3
   },
   "file_extension": ".py",
   "mimetype": "text/x-python",
   "name": "python",
   "nbconvert_exporter": "python",
   "pygments_lexer": "ipython3",
   "version": "3.9.7"
  },
  "orig_nbformat": 4
 },
 "nbformat": 4,
 "nbformat_minor": 2
}
