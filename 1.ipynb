{
 "cells": [
  {
   "cell_type": "markdown",
   "metadata": {},
   "source": [
    "# Got job prediction"
   ]
  },
  {
   "cell_type": "code",
   "execution_count": null,
   "metadata": {},
   "outputs": [],
   "source": [
    "from pandas import DataFrame\n",
    "from sklearn.linear_model import LogisticRegression"
   ]
  },
  {
   "cell_type": "code",
   "execution_count": null,
   "metadata": {},
   "outputs": [],
   "source": [
    "training_data = DataFrame(\n",
    "    {\n",
    "        \"sex_male\": [True, False, True, False],\n",
    "        \"year_of_birth\": [1990, 1995, 1982, 1989],\n",
    "        \"avg_grade\": [4.8, 5.4, 6.0, 4.1],\n",
    "        \"points\": [180, 180, 360, 60],\n",
    "        \"got_job\": [False, True, True, False]\n",
    "    })\n",
    "training_columns = [\"sex_male\", \"year_of_birth\", \"avg_grade\", \"points\"]\n",
    "label_column = \"got_job\""
   ]
  },
  {
   "cell_type": "code",
   "execution_count": null,
   "metadata": {},
   "outputs": [],
   "source": [
    "got_job_model = LogisticRegression()\n",
    "got_job_model.fit(training_data[training_columns], training_data[label_column])"
   ]
  },
  {
   "cell_type": "code",
   "execution_count": null,
   "metadata": {},
   "outputs": [],
   "source": [
    "vegard = DataFrame({\"sex_male\": [True], \"year_of_birth\": [1992], \"avg_grade\": [5.0], \"points\": [300]})"
   ]
  },
  {
   "cell_type": "code",
   "execution_count": null,
   "metadata": {},
   "outputs": [],
   "source": [
    "# Get a prediction\n",
    "got_job_model.predict(vegard[training_columns])"
   ]
  },
  {
   "cell_type": "code",
   "execution_count": null,
   "metadata": {},
   "outputs": [],
   "source": [
    "# Get probability for each class (false / true)\n",
    "got_job_model.predict_proba(vegard[training_columns])"
   ]
  },
  {
   "cell_type": "markdown",
   "metadata": {},
   "source": [
    "# Grade prediction"
   ]
  },
  {
   "cell_type": "code",
   "execution_count": null,
   "metadata": {},
   "outputs": [],
   "source": [
    "from sklearn.linear_model import LinearRegression"
   ]
  },
  {
   "cell_type": "code",
   "execution_count": null,
   "metadata": {},
   "outputs": [],
   "source": [
    "columns_for_grade_prediction = [\"sex_male\", \"year_of_birth\", \"got_job\", \"points\"]\n",
    "grade_prediction_label = \"avg_grade\"\n",
    "vegard = DataFrame({\"sex_male\": [True], \"year_of_birth\": [1992], \"got_job\": [True], \"points\": [300]})"
   ]
  },
  {
   "cell_type": "code",
   "execution_count": null,
   "metadata": {},
   "outputs": [],
   "source": [
    "grade_predict_model = LinearRegression()"
   ]
  },
  {
   "cell_type": "code",
   "execution_count": null,
   "metadata": {},
   "outputs": [],
   "source": [
    "grade_predict_model.fit(training_data[columns_for_grade_prediction], training_data[grade_prediction_label])"
   ]
  },
  {
   "cell_type": "code",
   "execution_count": null,
   "metadata": {},
   "outputs": [],
   "source": [
    "grade_predict_model.predict(vegard[columns_for_grade_prediction])"
   ]
  },
  {
   "cell_type": "markdown",
   "metadata": {},
   "source": [
    "# Task:\n",
    "1. Create your own data sample.\n",
    "2. Use the trained got_job_model to predict if you were hired.\n",
    "3. Use the grade_predict_model to see what it predicts as your average grade "
   ]
  },
  {
   "cell_type": "code",
   "execution_count": null,
   "metadata": {},
   "outputs": [],
   "source": []
  },
  {
   "cell_type": "code",
   "execution_count": null,
   "metadata": {},
   "outputs": [],
   "source": [
    "# Explore model parameters\n",
    "help(LogisticRegression)"
   ]
  }
 ],
 "metadata": {
  "interpreter": {
   "hash": "35731d38797c00bb3b513d59db061224a45fad8253fc47d933695b55c4ccb787"
  },
  "kernelspec": {
   "display_name": "Python 3.9.7 64-bit ('minikurs': conda)",
   "language": "python",
   "name": "python3"
  },
  "language_info": {
   "codemirror_mode": {
    "name": "ipython",
    "version": 3
   },
   "file_extension": ".py",
   "mimetype": "text/x-python",
   "name": "python",
   "nbconvert_exporter": "python",
   "pygments_lexer": "ipython3",
   "version": "3.9.7"
  },
  "orig_nbformat": 4
 },
 "nbformat": 4,
 "nbformat_minor": 2
}
