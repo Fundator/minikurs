{
 "cells": [
  {
   "cell_type": "markdown",
   "metadata": {},
   "source": [
    "# Explainable AI (XAI)\n",
    "\n",
    "- What\n",
    "- Why\n",
    "    - Trust\n",
    "    - Compliance\n",
    "    - Discovery\n",
    "    - Understanding\n",
    "- Causality vs Correlation\n",
    "- Fairness\n",
    "- How - theory\n",
    "    - eli5\n",
    "    - shap\n",
    "    - lime\n",
    "- How - experimentation\n"
   ]
  }
 ],
 "metadata": {
  "interpreter": {
   "hash": "0a06b1e484fd1b448386af0311754ceeab002272e77b8d19b3ff8a0c76025355"
  },
  "kernelspec": {
   "display_name": "Python 3.8.6 ('.venv': venv)",
   "language": "python",
   "name": "python3"
  },
  "language_info": {
   "name": "python",
   "version": "3.8.6"
  },
  "orig_nbformat": 4
 },
 "nbformat": 4,
 "nbformat_minor": 2
}
